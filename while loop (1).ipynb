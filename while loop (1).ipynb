{
 "cells": [
  {
   "cell_type": "code",
   "execution_count": 2,
   "id": "b2fcf648-0b35-47e3-9e38-4fc758768b9d",
   "metadata": {},
   "outputs": [
    {
     "name": "stdout",
     "output_type": "stream",
     "text": [
      "1\n",
      "2\n",
      "3\n",
      "4\n",
      "5\n",
      "6\n",
      "7\n",
      "8\n",
      "9\n",
      "10\n"
     ]
    }
   ],
   "source": [
    "a=1\n",
    "\n",
    "while a <= 10:\n",
    "    print(a)\n",
    "    a=a+1\n"
   ]
  },
  {
   "cell_type": "code",
   "execution_count": 9,
   "id": "08e1e07e-802c-47bd-9c4d-3bd9c53fcbb8",
   "metadata": {},
   "outputs": [
    {
     "name": "stdin",
     "output_type": "stream",
     "text": [
      "enter the valid 4\n"
     ]
    },
    {
     "data": {
      "text/plain": [
       "10"
      ]
     },
     "execution_count": 9,
     "metadata": {},
     "output_type": "execute_result"
    }
   ],
   "source": [
    "n=int(input(\"enter the valid\"))\n",
    "starting_point =0\n",
    "counter =1\n",
    "while counter <= n:\n",
    "      starting_point = starting_point + counter\n",
    "      counter = counter + 1\n",
    "starting_point"
   ]
  },
  {
   "cell_type": "code",
   "execution_count": 10,
   "id": "8a35a3f3-d9fb-4e3d-b3d5-37d36b04b59f",
   "metadata": {},
   "outputs": [],
   "source": [
    "##factorial"
   ]
  },
  {
   "cell_type": "code",
   "execution_count": 11,
   "id": "e0c00512-321a-4115-b7fa-c163e36157a7",
   "metadata": {},
   "outputs": [
    {
     "name": "stdin",
     "output_type": "stream",
     "text": [
      "Enter the number 3\n"
     ]
    },
    {
     "data": {
      "text/plain": [
       "6"
      ]
     },
     "execution_count": 11,
     "metadata": {},
     "output_type": "execute_result"
    }
   ],
   "source": [
    "num=int(input('Enter the number'))\n",
    "\n",
    "factorial = 1\n",
    "while num >0:\n",
    "    factorial= factorial*num\n",
    "    num=num -1\n",
    "factorial"
   ]
  },
  {
   "cell_type": "code",
   "execution_count": 12,
   "id": "225a2c3d-3fb9-402d-9420-53021924e88f",
   "metadata": {},
   "outputs": [],
   "source": [
    "##factorial=1*2*3=6"
   ]
  },
  {
   "cell_type": "code",
   "execution_count": 13,
   "id": "6f80ee8b-7126-4260-aa79-847bcd73ef83",
   "metadata": {},
   "outputs": [
    {
     "name": "stdin",
     "output_type": "stream",
     "text": [
      "Enter the number 4\n"
     ]
    },
    {
     "data": {
      "text/plain": [
       "24"
      ]
     },
     "execution_count": 13,
     "metadata": {},
     "output_type": "execute_result"
    }
   ],
   "source": [
    "num=int(input('Enter the number'))\n",
    "\n",
    "factorial = 1\n",
    "while num >0:\n",
    "    factorial= factorial*num\n",
    "    num=num -1\n",
    "factorial"
   ]
  },
  {
   "cell_type": "code",
   "execution_count": 14,
   "id": "f868f7b7-22fa-4aab-ab54-c547df65c429",
   "metadata": {},
   "outputs": [],
   "source": [
    "##finonachhi series"
   ]
  },
  {
   "cell_type": "code",
   "execution_count": 15,
   "id": "3425a2de-2f16-4158-ad3e-6796b1bea176",
   "metadata": {},
   "outputs": [
    {
     "name": "stdin",
     "output_type": "stream",
     "text": [
      "Enter the number of element you are looking for 3\n"
     ]
    },
    {
     "name": "stdout",
     "output_type": "stream",
     "text": [
      "0\n",
      "1\n",
      "1\n"
     ]
    }
   ],
   "source": [
    "number= int(input('Enter the number of element you are looking for'))\n",
    "\n",
    "a , b= 0,1\n",
    "counter = 0\n",
    "while counter<number:\n",
    "    print(a)\n",
    "    c=a+b\n",
    "    a=b\n",
    "    c=a\n",
    "    counter=counter +1"
   ]
  },
  {
   "cell_type": "code",
   "execution_count": 16,
   "id": "6c4875c4-6eb1-43b7-91ff-fa679644286c",
   "metadata": {},
   "outputs": [],
   "source": [
    "##next number = previes of two number"
   ]
  },
  {
   "cell_type": "code",
   "execution_count": 22,
   "id": "40fe65bb-464f-4e4e-8d29-0eac6e9fe58c",
   "metadata": {},
   "outputs": [
    {
     "name": "stdin",
     "output_type": "stream",
     "text": [
      "Enter the number of element you are looking for 5\n"
     ]
    },
    {
     "name": "stdout",
     "output_type": "stream",
     "text": [
      "0\n",
      "1\n",
      "1\n",
      "1\n",
      "1\n"
     ]
    }
   ],
   "source": [
    "number= int(input('Enter the number of element you are looking for'))\n",
    "a = 0\n",
    "b =1\n",
    "counter = 0\n",
    "while counter < number :\n",
    "    print(a)\n",
    "    c = a+ b\n",
    "    a = b\n",
    "    c = a\n",
    "    counter= counter +1"
   ]
  },
  {
   "cell_type": "code",
   "execution_count": 24,
   "id": "2b51abab-4053-4de3-ac23-6b075e218755",
   "metadata": {},
   "outputs": [
    {
     "name": "stdout",
     "output_type": "stream",
     "text": [
      "0\n",
      "1\n",
      "1\n",
      "1\n",
      "1\n",
      "1\n",
      "1\n",
      "1\n",
      "1\n",
      "1\n"
     ]
    }
   ],
   "source": [
    "a ,b= 0,1\n",
    "for i in range(10):\n",
    "    print(a)\n",
    "    c = a+ b\n",
    "    a = b\n",
    "    c = a\n",
    "    counter= counter +1"
   ]
  },
  {
   "cell_type": "code",
   "execution_count": 25,
   "id": "51090489-ecd3-4436-a45e-953cb3a51781",
   "metadata": {},
   "outputs": [],
   "source": [
    "s ='tush'"
   ]
  },
  {
   "cell_type": "code",
   "execution_count": 26,
   "id": "dd1fb727-84ae-42be-b6f7-007d3f047818",
   "metadata": {},
   "outputs": [
    {
     "data": {
      "text/plain": [
       "'hsut'"
      ]
     },
     "execution_count": 26,
     "metadata": {},
     "output_type": "execute_result"
    }
   ],
   "source": [
    "s[::-1]"
   ]
  },
  {
   "cell_type": "raw",
   "id": "baa683f6-2806-4af5-a9a1-127fb3ddcc96",
   "metadata": {},
   "source": [
    "word=input('enter your stringe reversal')"
   ]
  },
  {
   "cell_type": "code",
   "execution_count": 30,
   "id": "887915ed-fe2f-430b-a066-02ec6d75a571",
   "metadata": {},
   "outputs": [
    {
     "name": "stdout",
     "output_type": "stream",
     "text": [
      "h\n",
      "hs\n",
      "hsu\n",
      "hsut\n"
     ]
    }
   ],
   "source": [
    "reverse=''\n",
    "lenth= len(word)\n",
    "while lenth>0:\n",
    "    reverse =reverse +word[lenth-1]\n",
    "    lenth= lenth -1\n",
    "    print(reverse)"
   ]
  },
  {
   "cell_type": "code",
   "execution_count": 35,
   "id": "95ab12bc-6d79-4a06-a4d6-a405a0df5501",
   "metadata": {},
   "outputs": [
    {
     "name": "stdin",
     "output_type": "stream",
     "text": [
      "enter the number 4\n"
     ]
    },
    {
     "name": "stdout",
     "output_type": "stream",
     "text": [
      "4 * 1 = 4\n",
      "4 * 2 = 8\n",
      "4 * 3 = 12\n",
      "4 * 4 = 16\n",
      "4 * 5 = 20\n",
      "4 * 6 = 24\n",
      "4 * 7 = 28\n",
      "4 * 8 = 32\n",
      "4 * 9 = 36\n",
      "4 * 10 = 40\n"
     ]
    }
   ],
   "source": [
    "n=int(input('enter the number'))\n",
    "i=1\n",
    "while i<=10:\n",
    "    result=n*i\n",
    "    print(n,\"*\",i,'=',result)\n",
    "    i =i+1"
   ]
  },
  {
   "cell_type": "code",
   "execution_count": null,
   "id": "ca27db07-aa92-4e85-8334-0d901c5aa8d0",
   "metadata": {},
   "outputs": [],
   "source": []
  }
 ],
 "metadata": {
  "kernelspec": {
   "display_name": "Python 3 (ipykernel)",
   "language": "python",
   "name": "python3"
  },
  "language_info": {
   "codemirror_mode": {
    "name": "ipython",
    "version": 3
   },
   "file_extension": ".py",
   "mimetype": "text/x-python",
   "name": "python",
   "nbconvert_exporter": "python",
   "pygments_lexer": "ipython3",
   "version": "3.10.6"
  }
 },
 "nbformat": 4,
 "nbformat_minor": 5
}
